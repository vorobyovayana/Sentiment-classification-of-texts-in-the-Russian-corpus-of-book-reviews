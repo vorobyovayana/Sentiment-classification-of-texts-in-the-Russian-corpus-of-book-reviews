{
 "cells": [
  {
   "cell_type": "code",
   "execution_count": 6,
   "metadata": {
    "collapsed": true
   },
   "outputs": [],
   "source": [
    "import os\n",
    "import sys\n",
    "import codecs\n",
    "import gensim\n",
    "from gensim.models import Word2Vec\n",
    "from gensim.models.word2vec import LineSentence"
   ]
  },
  {
   "cell_type": "code",
   "execution_count": 13,
   "metadata": {
    "collapsed": true
   },
   "outputs": [],
   "source": [
    "model = Word2Vec(LineSentence('bow_no_s_w.txt'),\n",
    "                 size=150, \n",
    "                 window=5, \n",
    "                 min_count=5, \n",
    "                 workers=2)\n",
    "model.init_sims(replace=True)#clearmemory\n",
    "model.save('Jana.model')"
   ]
  },
  {
   "cell_type": "code",
   "execution_count": 14,
   "metadata": {
    "collapsed": true
   },
   "outputs": [],
   "source": [
    "m=Word2Vec.load('Jana.model')"
   ]
  },
  {
   "cell_type": "code",
   "execution_count": 21,
   "metadata": {},
   "outputs": [
    {
     "name": "stdout",
     "output_type": "stream",
     "text": [
      "книга 0.9999724626541138\n",
      "автор 0.9999682903289795\n",
      "тоже 0.9999675750732422\n",
      "история 0.9999675154685974\n",
      "роман 0.9999661445617676\n",
      "хотеть 0.9999655485153198\n",
      "человек 0.9999651908874512\n",
      "рассказ 0.9999650120735168\n",
      "мир 0.9999648928642273\n",
      "ещё 0.9999648332595825\n",
      "персонаж 0.9999648332595825\n",
      "можно 0.9999646544456482\n",
      "читать 0.9999644756317139\n",
      "время 0.9999643564224243\n",
      "герой 0.9999637007713318\n",
      "есть 0.9999635815620422\n",
      "хороший 0.9999632239341736\n",
      "стать 0.9999628663063049\n",
      "вообще 0.9999626874923706\n",
      "ребёнок 0.9999626874923706\n",
      "жизнь 0.9999624490737915\n",
      "сказать 0.9999619722366333\n",
      "конец 0.9999616742134094\n",
      "год 0.9999615550041199\n",
      "читатель 0.9999606013298035\n",
      "большой 0.9999604821205139\n",
      "прочитать 0.9999603629112244\n",
      "понимать 0.99996018409729\n",
      "часть 0.9999601244926453\n",
      "жить 0.9999586343765259\n",
      "понравиться 0.9999573230743408\n",
      "дело 0.9999569058418274\n",
      "написать 0.9999566078186035\n",
      "сюжет 0.9999556541442871\n",
      "знать 0.9999554753303528\n",
      "уже 0.9999550580978394\n",
      "произведение 0.9999544024467468\n",
      "страница 0.9999541640281677\n",
      "дать 0.999954104423523\n",
      "день 0.9999539256095886\n",
      "совсем 0.9999537467956543\n",
      "делать 0.9999527335166931\n",
      "имя 0.9999522566795349\n",
      "вопрос 0.9999520778656006\n",
      "думать 0.9999518990516663\n",
      "писать 0.9999514818191528\n",
      "героиня 0.9999514222145081\n",
      "слово 0.9999512434005737\n",
      "отношение 0.9999508857727051\n",
      "общий 0.9999508261680603\n"
     ]
    },
    {
     "name": "stderr",
     "output_type": "stream",
     "text": [
      "/home/user/Anaconda/lib/python3.6/site-packages/ipykernel_launcher.py:3: DeprecationWarning: Call to deprecated `most_similar` (Method will be removed in 4.0.0, use self.wv.most_similar() instead).\n",
      "  This is separate from the ipykernel package so we can avoid doing imports until\n"
     ]
    }
   ],
   "source": [
    "for t in m.most_similar(\n",
    "    positive=[u'интересный'],\n",
    "    topn=50):\n",
    "    print (t[0], t[1])"
   ]
  },
  {
   "cell_type": "code",
   "execution_count": 72,
   "metadata": {},
   "outputs": [
    {
     "data": {
      "text/plain": [
       "0.99829912"
      ]
     },
     "execution_count": 72,
     "metadata": {},
     "output_type": "execute_result"
    }
   ],
   "source": [
    "model.wv.similarity(\"книга\", \"сюжет\")"
   ]
  },
  {
   "cell_type": "code",
   "execution_count": null,
   "metadata": {
    "collapsed": true
   },
   "outputs": [],
   "source": []
  }
 ],
 "metadata": {
  "kernelspec": {
   "display_name": "Python 3",
   "language": "python",
   "name": "python3"
  },
  "language_info": {
   "codemirror_mode": {
    "name": "ipython",
    "version": 3
   },
   "file_extension": ".py",
   "mimetype": "text/x-python",
   "name": "python",
   "nbconvert_exporter": "python",
   "pygments_lexer": "ipython3",
   "version": "3.6.1"
  }
 },
 "nbformat": 4,
 "nbformat_minor": 2
}
